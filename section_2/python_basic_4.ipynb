{
  "nbformat": 4,
  "nbformat_minor": 0,
  "metadata": {
    "colab": {
      "name": "python_basic_4.ipynb",
      "provenance": [],
      "include_colab_link": true
    },
    "kernelspec": {
      "name": "python3",
      "display_name": "Python 3"
    }
  },
  "cells": [
    {
      "cell_type": "markdown",
      "metadata": {
        "id": "view-in-github",
        "colab_type": "text"
      },
      "source": [
        "<a href=\"https://colab.research.google.com/github/likichan/git-practice/blob/main/section_2/python_basic_4.ipynb\" target=\"_parent\"><img src=\"https://colab.research.google.com/assets/colab-badge.svg\" alt=\"Open In Colab\"/></a>"
      ]
    },
    {
      "cell_type": "markdown",
      "metadata": {
        "id": "ewg_pUrO-m3m"
      },
      "source": [
        "# Pythonの基礎4\n",
        "Pythonの特殊なメソッドを解説します。  \n",
        "これらを活用することで、より短くて読みやすいコードを記述することが可能になります。"
      ]
    },
    {
      "cell_type": "markdown",
      "metadata": {
        "id": "BxlxFRAm-m3o"
      },
      "source": [
        "## ●`__init__`メソッド\n",
        "**`__init__`**は特殊なメソッドで、イニシャライザ、もしくはコンストラクタと呼ばれています。  \n",
        "このメソッドでは、インスタンスの生成時にインスタンスの初期設定を行うことができます。  \n",
        "以下のクラスでは、`__init__`メソッドでインスタンス変数aの初期設定を行っています。  "
      ]
    },
    {
      "cell_type": "code",
      "metadata": {
        "id": "xftbx6T4-m3p"
      },
      "source": [
        "class Calc:  # Calcクラス\n",
        "    def __init__(self, a):  # __init__メソッド\n",
        "        self.a = a\n",
        "\n",
        "    def add(self, b):  # addメソッド\n",
        "        print(self.a + b)\n",
        "\n",
        "    def multiply(self, b):  # multiplyメソッド\n",
        "        print(self.a * b)"
      ],
      "execution_count": 1,
      "outputs": []
    },
    {
      "cell_type": "code",
      "metadata": {
        "id": "wrO8sv-WZHuo"
      },
      "source": [
        "# 練習用\n"
      ],
      "execution_count": null,
      "outputs": []
    },
    {
      "cell_type": "markdown",
      "metadata": {
        "id": "L8xd1JMv-m3s"
      },
      "source": [
        "以下では、インスタンスの生成時に、3という値をインスタンスに渡しています。  \n",
        "この保持された値は、後で計算に利用することができます。  "
      ]
    },
    {
      "cell_type": "code",
      "metadata": {
        "id": "-Tnd7UjE-m3t",
        "outputId": "f42c486d-2fb5-42e5-b4fb-c8588689471d",
        "colab": {
          "base_uri": "https://localhost:8080/"
        }
      },
      "source": [
        "cl = Calc(3)  # インスタンスclを生成\n",
        "cl.add(4)  # 3 + 4\n",
        "cl.multiply(4) # 3 × 4\n"
      ],
      "execution_count": 2,
      "outputs": [
        {
          "output_type": "stream",
          "name": "stdout",
          "text": [
            "7\n",
            "12\n"
          ]
        }
      ]
    },
    {
      "cell_type": "code",
      "metadata": {
        "id": "cAZfsS-vZKeC"
      },
      "source": [
        "# 練習用\n"
      ],
      "execution_count": null,
      "outputs": []
    },
    {
      "cell_type": "markdown",
      "metadata": {
        "id": "jH5DBIKLMpTn"
      },
      "source": [
        "このように、`__init__`メソッドを使えばインスタンスの生成時にインスタンスに値を渡すことができます。  \n",
        "そのため、何度も繰り返して使用したり、複数のメソッドで使う値があれば、`__init__`メソッドで設定するのが効率的になります。"
      ]
    },
    {
      "cell_type": "markdown",
      "metadata": {
        "id": "5iaX234BO1_c"
      },
      "source": [
        "## ●`__call__`メソッド\n",
        "`__call__`メソッドは、インスタンス名を使って呼び出すことができます。  \n",
        "以下では、`Calc`クラスに`__init__`メソッドの他に`__call__`メソッドを実装しています。"
      ]
    },
    {
      "cell_type": "code",
      "metadata": {
        "id": "_7Ct9UGnO1_p",
        "outputId": "7597491c-7f23-4732-c20a-ad0851e4020c",
        "colab": {
          "base_uri": "https://localhost:8080/"
        }
      },
      "source": [
        "class Calc:  # Calcクラス\n",
        "    def __init__(self, a):  # __init__メソッド\n",
        "        self.a = a\n",
        "\n",
        "    def __call__(self, c):  # __call__メソッド\n",
        "        print(self.a * c + c)\n",
        "\n",
        "    def add(self, b):  # addメソッド\n",
        "        print(self.a + b)\n",
        "\n",
        "    def multiply(self, b):  # multiplyメソッド\n",
        "        print(self.a * b)\n",
        "\n",
        "cl = Calc(3)  # インスタンスclを生成\n",
        "\n",
        "# インスタンス名clを使って__call__メソッドを呼ぶ\n",
        "cl(5)  # 3 × 5 + 5\n",
        "cl.add(5)\n",
        "cl.multiply(5)"
      ],
      "execution_count": 13,
      "outputs": [
        {
          "output_type": "stream",
          "name": "stdout",
          "text": [
            "20\n",
            "8\n",
            "15\n"
          ]
        }
      ]
    },
    {
      "cell_type": "code",
      "metadata": {
        "id": "8t66JIKtO1_q"
      },
      "source": [
        "# 練習用\n"
      ],
      "execution_count": 8,
      "outputs": []
    },
    {
      "cell_type": "markdown",
      "metadata": {
        "id": "zk0O973kRR88"
      },
      "source": [
        "以下では、インスタンスの名`cl`を使って`__call__`メソッドを呼び出しています。  "
      ]
    },
    {
      "cell_type": "code",
      "metadata": {
        "id": "TJnm8GNxRR9I",
        "outputId": "e10315af-acdb-4d11-c829-133871bfab4d",
        "colab": {
          "base_uri": "https://localhost:8080/",
          "height": 184
        }
      },
      "source": [
        "cl = Calc(3)  # インスタンスclを生成\n",
        "\n",
        "# インスタンス名clを使って__call__メソッドを呼ぶ\n",
        "cl(5)  # 3 × 5 + 5"
      ],
      "execution_count": 6,
      "outputs": [
        {
          "output_type": "error",
          "ename": "TypeError",
          "evalue": "'Calc' object is not callable",
          "traceback": [
            "\u001b[0;31m---------------------------------------------------------------------------\u001b[0m",
            "\u001b[0;31mTypeError\u001b[0m                                 Traceback (most recent call last)",
            "\u001b[0;32m<ipython-input-6-a79a1368f524>\u001b[0m in \u001b[0;36m<cell line: 0>\u001b[0;34m()\u001b[0m\n\u001b[1;32m      2\u001b[0m \u001b[0;34m\u001b[0m\u001b[0m\n\u001b[1;32m      3\u001b[0m \u001b[0;31m# インスタンス名clを使って__call__メソッドを呼ぶ\u001b[0m\u001b[0;34m\u001b[0m\u001b[0;34m\u001b[0m\u001b[0m\n\u001b[0;32m----> 4\u001b[0;31m \u001b[0mcl\u001b[0m\u001b[0;34m(\u001b[0m\u001b[0;36m5\u001b[0m\u001b[0;34m)\u001b[0m  \u001b[0;31m# 3 × 5 + 5\u001b[0m\u001b[0;34m\u001b[0m\u001b[0;34m\u001b[0m\u001b[0m\n\u001b[0m",
            "\u001b[0;31mTypeError\u001b[0m: 'Calc' object is not callable"
          ]
        }
      ]
    },
    {
      "cell_type": "code",
      "metadata": {
        "id": "JXfHeV4ORR9J"
      },
      "source": [
        "# 練習用\n"
      ],
      "execution_count": null,
      "outputs": []
    },
    {
      "cell_type": "markdown",
      "metadata": {
        "id": "5Vw5ZL6xRR9J"
      },
      "source": [
        "このように、`__call__`メソッドを使えばメソッド名を記述する必要が無くなります。  \n",
        "頻繁に用いる処理を`__call__`メソッドに記述しておくことで、コードの記述量が少なくて済むようになります。"
      ]
    },
    {
      "cell_type": "code",
      "source": [
        "class sell_ticket:\n",
        "  def __init__(self, ticket_price):\n",
        "    self.ticket_price = ticket_price\n",
        "\n",
        "  def __call__(self, nums):\n",
        "    print(self.ticket_price * nums)\n",
        "\n",
        "price = sell_ticket(500)\n",
        "price(10)\n",
        "price(15)"
      ],
      "metadata": {
        "id": "pBjbvplMdCi1",
        "outputId": "bdceb060-c1df-4ecb-b959-14a0a7438619",
        "colab": {
          "base_uri": "https://localhost:8080/"
        }
      },
      "execution_count": 16,
      "outputs": [
        {
          "output_type": "stream",
          "name": "stdout",
          "text": [
            "5000\n",
            "7500\n"
          ]
        }
      ]
    },
    {
      "cell_type": "code",
      "source": [
        "class point_card:\n",
        "  def __init__(self, percentage):\n",
        "    self.percentage = percentage\n",
        "\n",
        "  def __call__(self, buy_price):\n",
        "    print(self.percentage * buy_price)\n",
        "\n",
        "points = point_card(0.1)\n",
        "points(1000)"
      ],
      "metadata": {
        "id": "fZUGp4D0koKb",
        "outputId": "d1cd46eb-48f1-4791-92d4-bbed7e313df2",
        "colab": {
          "base_uri": "https://localhost:8080/"
        }
      },
      "execution_count": 17,
      "outputs": [
        {
          "output_type": "stream",
          "name": "stdout",
          "text": [
            "100.0\n"
          ]
        }
      ]
    },
    {
      "cell_type": "code",
      "source": [
        "class alternate_tempaerature:\n",
        "  def __call__(self, celsius):\n",
        "    print(celsius * 9/5 + 32)\n",
        "\n",
        "Fahrenheit = alternate_tempaerature()\n",
        "\n",
        "Fahrenheit(0)"
      ],
      "metadata": {
        "id": "RiU31AVHmydJ",
        "outputId": "26f5732f-1c09-4fc6-f786-c1b1d84726c2",
        "colab": {
          "base_uri": "https://localhost:8080/"
        }
      },
      "execution_count": 19,
      "outputs": [
        {
          "output_type": "stream",
          "name": "stdout",
          "text": [
            "32.0\n"
          ]
        }
      ]
    },
    {
      "cell_type": "code",
      "source": [
        "class tax_calc:\n",
        "  def __init__(self, tax_percentage):\n",
        "    self.tax_percentage = tax_percentage\n",
        "  def __call__(self, price):\n",
        "    print(price + self.tax_percentage*price)\n",
        "\n",
        "taxed_price=tax_calc(0.1)\n",
        "taxed_price(1000)"
      ],
      "metadata": {
        "id": "QUCE2Z99xjz8",
        "outputId": "91dfa94a-ac70-4dc9-d4e6-dd6e0215763f",
        "colab": {
          "base_uri": "https://localhost:8080/"
        }
      },
      "execution_count": 20,
      "outputs": [
        {
          "output_type": "stream",
          "name": "stdout",
          "text": [
            "1100.0\n"
          ]
        }
      ]
    }
  ]
}